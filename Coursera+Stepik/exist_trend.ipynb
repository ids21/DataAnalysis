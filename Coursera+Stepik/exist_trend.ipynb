{
 "cells": [
  {
   "cell_type": "code",
   "execution_count": 2,
   "metadata": {},
   "outputs": [],
   "source": [
    "import numpy as np"
   ]
  },
  {
   "cell_type": "code",
   "execution_count": 4,
   "metadata": {},
   "outputs": [],
   "source": [
    "data=np.array([ 13,21,15,34,23,15,19,32,24,14,13,22,8,30,11,38,33,29,16,44,21,16,17,19,1,22,28,22,14,7,\n",
    "              15,24,26,14,11,25,17,10,19,5,6,16,7,10,1,5,2,8,14,14,15,16,13,11,9,11,19,21],float)\n",
    "data_sign=np.array([],float)"
   ]
  },
  {
   "cell_type": "code",
   "execution_count": 6,
   "metadata": {},
   "outputs": [
    {
     "data": {
      "text/plain": [
       "array([1., 0., 1., 0., 0., 1., 1., 0., 0., 0., 1., 0., 1., 0., 1., 0., 0.,\n",
       "       0., 1., 0., 0., 1., 1., 0., 1., 1., 0., 0., 0., 1., 1., 1., 0., 0.,\n",
       "       1., 0., 0., 1., 0., 1., 1., 0., 1., 0., 1., 0., 1., 1., 0., 1., 1.,\n",
       "       0., 0., 0., 1., 1., 1., 0., 1., 0., 1., 0., 0., 1., 1., 0., 0., 0.,\n",
       "       1., 0., 1., 0., 1., 0., 0., 0., 1., 0., 0., 1., 1., 0., 1., 1., 0.,\n",
       "       0., 0., 1., 1., 1., 0., 0., 1., 0., 0., 1., 0., 1., 1., 0., 1., 0.,\n",
       "       1., 0., 1., 1., 0., 1., 1., 0., 0., 0., 1., 1., 1., 0.])"
      ]
     },
     "execution_count": 6,
     "metadata": {},
     "output_type": "execute_result"
    }
   ],
   "source": [
    "for i in range(0,len(data)-1):\n",
    "    if data[i+1]>data[i]:\n",
    "        data_sign=np.append(data_sign,1)\n",
    "    else:\n",
    "         data_sign=np.append(data_sign,0)\n",
    "data_sign=np.append(data_sign,0)\n",
    "data_sign"
   ]
  },
  {
   "cell_type": "code",
   "execution_count": 8,
   "metadata": {},
   "outputs": [
    {
     "name": "stdout",
     "output_type": "stream",
     "text": [
      "count36 max_len3\n"
     ]
    }
   ],
   "source": [
    "count=1\n",
    "max_len=-1\n",
    "series_len=1\n",
    "for i in range(0,len(data)-1):\n",
    "    if data_sign[i+1]!=data_sign[i]:\n",
    "        count+=1\n",
    "        if series_len>max_len:\n",
    "            max_len=series_len\n",
    "        series_len=1\n",
    "    else:\n",
    "        series_len+=1\n",
    "print('count={} max_le={}'.format(count,max_len))"
   ]
  },
  {
   "cell_type": "code",
   "execution_count": 13,
   "metadata": {},
   "outputs": [
    {
     "data": {
      "text/plain": [
       "32"
      ]
     },
     "execution_count": 13,
     "metadata": {},
     "output_type": "execute_result"
    }
   ],
   "source": [
    "vntest=round((2*len(data)-1)/3-1.96*((16*len(data)-29)/90)**0.5)\n",
    "rtest=6  #при 26 ≤ n < 153\n",
    "vntest"
   ]
  },
  {
   "cell_type": "code",
   "execution_count": null,
   "metadata": {},
   "outputs": [],
   "source": [
    "#count>vntest\n",
    "#max_len<rtest"
   ]
  },
  {
   "cell_type": "markdown",
   "metadata": {},
   "source": [
    "Условия выполняются, значит нет оснований отвергать нулевую гипотезу. Тренда нет"
   ]
  }
 ],
 "metadata": {
  "kernelspec": {
   "display_name": "Python 3",
   "language": "python",
   "name": "python3"
  },
  "language_info": {
   "codemirror_mode": {
    "name": "ipython",
    "version": 3
   },
   "file_extension": ".py",
   "mimetype": "text/x-python",
   "name": "python",
   "nbconvert_exporter": "python",
   "pygments_lexer": "ipython3",
   "version": "3.7.3"
  }
 },
 "nbformat": 4,
 "nbformat_minor": 4
}
