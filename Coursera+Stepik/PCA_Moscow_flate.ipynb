{
 "cells": [
  {
   "cell_type": "raw",
   "metadata": {},
   "source": [
    "В общих чертах, задача состоит в том, чтобы установить зависимость цены на квартиру от многочисленных факторов. Согласно статье В.А.Овсянникова “Массовая оценка жилой недвижимости (квартир)” за 1995 год, опубликованной на сайте ЦАРН, этими факторами являются:\n",
    "    количество комнат;\n",
    "    общая площадь;\n",
    "    жилая площадь;\n",
    "    площадь кухни;\n",
    "    этаж;\n",
    "    этажность дома;\n",
    "    материал стен;\n",
    "    наличие балконов и лоджий;\n",
    "    наличие телефона;\n",
    "    удаленность от центра города;\n",
    "    расположение относительно станций метро, ж/д. платформ и автомагистралей;\n",
    "    расположение относительно центров локального влияния;\n",
    "    дата оценки."
   ]
  },
  {
   "cell_type": "code",
   "execution_count": 2,
   "metadata": {},
   "outputs": [],
   "source": [
    "# import warnings filter\n",
    "from warnings import simplefilter\n",
    "# ignore all future warnings\n",
    "simplefilter(action='ignore', category=FutureWarning)"
   ]
  },
  {
   "cell_type": "code",
   "execution_count": 10,
   "metadata": {},
   "outputs": [
    {
     "data": {
      "text/html": [
       "<div>\n",
       "<style scoped>\n",
       "    .dataframe tbody tr th:only-of-type {\n",
       "        vertical-align: middle;\n",
       "    }\n",
       "\n",
       "    .dataframe tbody tr th {\n",
       "        vertical-align: top;\n",
       "    }\n",
       "\n",
       "    .dataframe thead th {\n",
       "        text-align: right;\n",
       "    }\n",
       "</style>\n",
       "<table border=\"1\" class=\"dataframe\">\n",
       "  <thead>\n",
       "    <tr style=\"text-align: right;\">\n",
       "      <th></th>\n",
       "      <th>LIVSQ</th>\n",
       "      <th>APPEN</th>\n",
       "      <th>KITSQ</th>\n",
       "      <th>DIST</th>\n",
       "      <th>METRDIST</th>\n",
       "    </tr>\n",
       "  </thead>\n",
       "  <tbody>\n",
       "    <tr>\n",
       "      <td>0</td>\n",
       "      <td>36.2</td>\n",
       "      <td>18.9</td>\n",
       "      <td>9.5</td>\n",
       "      <td>1.500</td>\n",
       "      <td>5.0</td>\n",
       "    </tr>\n",
       "    <tr>\n",
       "      <td>1</td>\n",
       "      <td>30.3</td>\n",
       "      <td>12.1</td>\n",
       "      <td>8.0</td>\n",
       "      <td>1.500</td>\n",
       "      <td>5.0</td>\n",
       "    </tr>\n",
       "    <tr>\n",
       "      <td>2</td>\n",
       "      <td>30.0</td>\n",
       "      <td>9.2</td>\n",
       "      <td>11.8</td>\n",
       "      <td>1.500</td>\n",
       "      <td>5.0</td>\n",
       "    </tr>\n",
       "    <tr>\n",
       "      <td>3</td>\n",
       "      <td>29.0</td>\n",
       "      <td>8.0</td>\n",
       "      <td>5.0</td>\n",
       "      <td>4.500</td>\n",
       "      <td>5.0</td>\n",
       "    </tr>\n",
       "    <tr>\n",
       "      <td>4</td>\n",
       "      <td>30.0</td>\n",
       "      <td>8.7</td>\n",
       "      <td>6.0</td>\n",
       "      <td>4.500</td>\n",
       "      <td>15.0</td>\n",
       "    </tr>\n",
       "    <tr>\n",
       "      <td>...</td>\n",
       "      <td>...</td>\n",
       "      <td>...</td>\n",
       "      <td>...</td>\n",
       "      <td>...</td>\n",
       "      <td>...</td>\n",
       "    </tr>\n",
       "    <tr>\n",
       "      <td>279</td>\n",
       "      <td>56.0</td>\n",
       "      <td>18.0</td>\n",
       "      <td>10.0</td>\n",
       "      <td>8.125</td>\n",
       "      <td>6.0</td>\n",
       "    </tr>\n",
       "    <tr>\n",
       "      <td>280</td>\n",
       "      <td>39.0</td>\n",
       "      <td>18.0</td>\n",
       "      <td>9.0</td>\n",
       "      <td>18.750</td>\n",
       "      <td>10.0</td>\n",
       "    </tr>\n",
       "    <tr>\n",
       "      <td>281</td>\n",
       "      <td>51.0</td>\n",
       "      <td>20.0</td>\n",
       "      <td>8.0</td>\n",
       "      <td>15.625</td>\n",
       "      <td>10.0</td>\n",
       "    </tr>\n",
       "    <tr>\n",
       "      <td>282</td>\n",
       "      <td>50.0</td>\n",
       "      <td>18.0</td>\n",
       "      <td>12.0</td>\n",
       "      <td>5.000</td>\n",
       "      <td>5.0</td>\n",
       "    </tr>\n",
       "    <tr>\n",
       "      <td>283</td>\n",
       "      <td>45.0</td>\n",
       "      <td>19.5</td>\n",
       "      <td>10.5</td>\n",
       "      <td>13.125</td>\n",
       "      <td>10.0</td>\n",
       "    </tr>\n",
       "  </tbody>\n",
       "</table>\n",
       "<p>284 rows × 5 columns</p>\n",
       "</div>"
      ],
      "text/plain": [
       "     LIVSQ  APPEN  KITSQ    DIST  METRDIST\n",
       "0     36.2   18.9    9.5   1.500       5.0\n",
       "1     30.3   12.1    8.0   1.500       5.0\n",
       "2     30.0    9.2   11.8   1.500       5.0\n",
       "3     29.0    8.0    5.0   4.500       5.0\n",
       "4     30.0    8.7    6.0   4.500      15.0\n",
       "..     ...    ...    ...     ...       ...\n",
       "279   56.0   18.0   10.0   8.125       6.0\n",
       "280   39.0   18.0    9.0  18.750      10.0\n",
       "281   51.0   20.0    8.0  15.625      10.0\n",
       "282   50.0   18.0   12.0   5.000       5.0\n",
       "283   45.0   19.5   10.5  13.125      10.0\n",
       "\n",
       "[284 rows x 5 columns]"
      ]
     },
     "execution_count": 10,
     "metadata": {},
     "output_type": "execute_result"
    }
   ],
   "source": [
    "#импортируем все нужные бибилиотеки и создадим datafrime с данными которые нужно рассмотреть\n",
    "import numpy as np\n",
    "import pandas as pd\n",
    "import seaborn as sns\n",
    "from sklearn.decomposition import PCA\n",
    "from sklearn.model_selection import cross_val_score\n",
    "from sklearn.model_selection import StratifiedKFold\n",
    "from sklearn.pipeline import Pipeline\n",
    "from sklearn.linear_model import LogisticRegression\n",
    "from sklearn.preprocessing import StandardScaler\n",
    "import matplotlib.pyplot as plt\n",
    "%matplotlib inline\n",
    "file_path = \"C:/Users/Dmitrij/Downloads/Flats.xls\"\n",
    "full_data = pd.read_excel(file_path)\n",
    "full_data = full_data[(full_data.ROOM==3) | (full_data.ROOM==2)]\n",
    "full_data.index = np.arange(len(full_data))\n",
    "data_log_X = full_data.drop(['PRICE','WALK','BRICK','TEL','BAL','FLOOR','ROOM'],axis=1)\n",
    "data_log_y = full_data.ROOM\n",
    "X=full_data.drop(['PRICE','WALK','BRICK','TEL','BAL','FLOOR','ROOM'],axis=1)\n",
    "X"
   ]
  },
  {
   "cell_type": "code",
   "execution_count": 11,
   "metadata": {},
   "outputs": [],
   "source": [
    "cv = StratifiedKFold(n_splits=5, shuffle=True, random_state=42)"
   ]
  },
  {
   "cell_type": "code",
   "execution_count": 119,
   "metadata": {},
   "outputs": [
    {
     "data": {
      "text/html": [
       "<div>\n",
       "<style scoped>\n",
       "    .dataframe tbody tr th:only-of-type {\n",
       "        vertical-align: middle;\n",
       "    }\n",
       "\n",
       "    .dataframe tbody tr th {\n",
       "        vertical-align: top;\n",
       "    }\n",
       "\n",
       "    .dataframe thead th {\n",
       "        text-align: right;\n",
       "    }\n",
       "</style>\n",
       "<table border=\"1\" class=\"dataframe\">\n",
       "  <thead>\n",
       "    <tr style=\"text-align: right;\">\n",
       "      <th></th>\n",
       "      <th>principal_component_1</th>\n",
       "      <th>principal_component_2</th>\n",
       "      <th>target</th>\n",
       "    </tr>\n",
       "  </thead>\n",
       "  <tbody>\n",
       "    <tr>\n",
       "      <td>0</td>\n",
       "      <td>0.864648</td>\n",
       "      <td>-1.647861</td>\n",
       "      <td>2</td>\n",
       "    </tr>\n",
       "    <tr>\n",
       "      <td>1</td>\n",
       "      <td>-0.694193</td>\n",
       "      <td>-1.763292</td>\n",
       "      <td>2</td>\n",
       "    </tr>\n",
       "    <tr>\n",
       "      <td>2</td>\n",
       "      <td>0.054038</td>\n",
       "      <td>-1.868389</td>\n",
       "      <td>2</td>\n",
       "    </tr>\n",
       "    <tr>\n",
       "      <td>3</td>\n",
       "      <td>-2.171523</td>\n",
       "      <td>-1.349532</td>\n",
       "      <td>2</td>\n",
       "    </tr>\n",
       "    <tr>\n",
       "      <td>4</td>\n",
       "      <td>-1.778139</td>\n",
       "      <td>0.534151</td>\n",
       "      <td>2</td>\n",
       "    </tr>\n",
       "    <tr>\n",
       "      <td>...</td>\n",
       "      <td>...</td>\n",
       "      <td>...</td>\n",
       "      <td>...</td>\n",
       "    </tr>\n",
       "    <tr>\n",
       "      <td>279</td>\n",
       "      <td>1.894104</td>\n",
       "      <td>-0.343380</td>\n",
       "      <td>3</td>\n",
       "    </tr>\n",
       "    <tr>\n",
       "      <td>280</td>\n",
       "      <td>0.427598</td>\n",
       "      <td>1.755046</td>\n",
       "      <td>3</td>\n",
       "    </tr>\n",
       "    <tr>\n",
       "      <td>281</td>\n",
       "      <td>1.107406</td>\n",
       "      <td>1.477272</td>\n",
       "      <td>3</td>\n",
       "    </tr>\n",
       "    <tr>\n",
       "      <td>282</td>\n",
       "      <td>2.198214</td>\n",
       "      <td>-1.068898</td>\n",
       "      <td>3</td>\n",
       "    </tr>\n",
       "    <tr>\n",
       "      <td>283</td>\n",
       "      <td>1.483083</td>\n",
       "      <td>1.013403</td>\n",
       "      <td>3</td>\n",
       "    </tr>\n",
       "  </tbody>\n",
       "</table>\n",
       "<p>284 rows × 3 columns</p>\n",
       "</div>"
      ],
      "text/plain": [
       "     principal_component_1  principal_component_2  target\n",
       "0                 0.864648              -1.647861       2\n",
       "1                -0.694193              -1.763292       2\n",
       "2                 0.054038              -1.868389       2\n",
       "3                -2.171523              -1.349532       2\n",
       "4                -1.778139               0.534151       2\n",
       "..                     ...                    ...     ...\n",
       "279               1.894104              -0.343380       3\n",
       "280               0.427598               1.755046       3\n",
       "281               1.107406               1.477272       3\n",
       "282               2.198214              -1.068898       3\n",
       "283               1.483083               1.013403       3\n",
       "\n",
       "[284 rows x 3 columns]"
      ]
     },
     "execution_count": 119,
     "metadata": {},
     "output_type": "execute_result"
    }
   ],
   "source": [
    "pca_model = Pipeline([('scaler',StandardScaler()),('pca',PCA(n_components=2))])\n",
    "principalComponents = pca_model.fit_transform(X)\n",
    "principalDf = pd.DataFrame(data = principalComponents\n",
    "             , columns = ['principal_component_1', 'principal_component_2'])\n",
    "principalDf['target']=data_log_y\n",
    "principalDf"
   ]
  },
  {
   "cell_type": "code",
   "execution_count": 97,
   "metadata": {},
   "outputs": [
    {
     "data": {
      "image/png": "[encoded data removed]",
      "text/plain": [
       "<Figure size 576x576 with 1 Axes>"
      ]
     },
     "metadata": {
      "needs_background": "light"
     },
     "output_type": "display_data"
    }
   ],
   "source": [
    "fig = plt.figure(figsize = (8,8))\n",
    "ax = fig.add_subplot(1,1,1) \n",
    "ax.set_xlabel('Principal Component 1', fontsize = 15)\n",
    "ax.set_ylabel('Principal Component 2', fontsize = 15)\n",
    "ax.set_title('2 component PCA', fontsize = 20)\n",
    "targets = [2,3]\n",
    "colors = ['r','g']\n",
    "for target, color in zip(targets,colors):\n",
    "    indicesToKeep = principalDf.target == target\n",
    "    ax.scatter(principalDf.loc[indicesToKeep, 'principal_component_1']\n",
    "               , principalDf.loc[indicesToKeep, 'principal_component_2']\n",
    "               , c = color\n",
    "               , s = 50)\n",
    "ax.legend(targets)\n",
    "ax.grid()"
   ]
  },
  {
   "cell_type": "code",
   "execution_count": 98,
   "metadata": {},
   "outputs": [
    {
     "data": {
      "text/plain": [
       "array([0.39355087, 0.2356138 ])"
      ]
     },
     "execution_count": 98,
     "metadata": {},
     "output_type": "execute_result"
    }
   ],
   "source": [
    "pca_model['pca'].explained_variance_ratio_"
   ]
  },
  {
   "cell_type": "code",
   "execution_count": 99,
   "metadata": {},
   "outputs": [
    {
     "data": {
      "text/plain": [
       "array([[ 0.54052013,  0.62473627,  0.5555343 , -0.09356641, -0.0130215 ],\n",
       "       [ 0.09694965,  0.06489878, -0.03378745,  0.69402354,  0.70963275]])"
      ]
     },
     "execution_count": 99,
     "metadata": {},
     "output_type": "execute_result"
    }
   ],
   "source": [
    "pca_model['pca'].components_"
   ]
  },
  {
   "cell_type": "markdown",
   "metadata": {},
   "source": [
    "# 2 вариант "
   ]
  },
  {
   "cell_type": "code",
   "execution_count": 148,
   "metadata": {},
   "outputs": [],
   "source": [
    "Xcenter = X.apply(lambda x: (x - x.mean())/np.std(x))\n",
    "cov = np.cov(Xcenter)"
   ]
  },
  {
   "cell_type": "code",
   "execution_count": 153,
   "metadata": {},
   "outputs": [],
   "source": [
    "_,vecs = np.linalg.eig(cov)\n",
    "v = vecs[:,:2]"
   ]
  },
  {
   "cell_type": "code",
   "execution_count": 156,
   "metadata": {},
   "outputs": [
    {
     "data": {
      "text/html": [
       "<div>\n",
       "<style scoped>\n",
       "    .dataframe tbody tr th:only-of-type {\n",
       "        vertical-align: middle;\n",
       "    }\n",
       "\n",
       "    .dataframe tbody tr th {\n",
       "        vertical-align: top;\n",
       "    }\n",
       "\n",
       "    .dataframe thead th {\n",
       "        text-align: right;\n",
       "    }\n",
       "</style>\n",
       "<table border=\"1\" class=\"dataframe\">\n",
       "  <thead>\n",
       "    <tr style=\"text-align: right;\">\n",
       "      <th></th>\n",
       "      <th>xnew0</th>\n",
       "      <th>xnew1</th>\n",
       "      <th>target</th>\n",
       "    </tr>\n",
       "  </thead>\n",
       "  <tbody>\n",
       "    <tr>\n",
       "      <td>0</td>\n",
       "      <td>8.916581+0.000000j</td>\n",
       "      <td>0.031846+0.000000j</td>\n",
       "      <td>2</td>\n",
       "    </tr>\n",
       "    <tr>\n",
       "      <td>1</td>\n",
       "      <td>10.794273+0.000000j</td>\n",
       "      <td>0.650333+0.000000j</td>\n",
       "      <td>2</td>\n",
       "    </tr>\n",
       "    <tr>\n",
       "      <td>2</td>\n",
       "      <td>10.395825+0.000000j</td>\n",
       "      <td>-0.377559+0.000000j</td>\n",
       "      <td>2</td>\n",
       "    </tr>\n",
       "    <tr>\n",
       "      <td>3</td>\n",
       "      <td>-9.910839+0.000000j</td>\n",
       "      <td>10.090177+0.000000j</td>\n",
       "      <td>2</td>\n",
       "    </tr>\n",
       "    <tr>\n",
       "      <td>4</td>\n",
       "      <td>-8.223347+0.000000j</td>\n",
       "      <td>-11.444286+0.000000j</td>\n",
       "      <td>2</td>\n",
       "    </tr>\n",
       "  </tbody>\n",
       "</table>\n",
       "</div>"
      ],
      "text/plain": [
       "                 xnew0                xnew1  target\n",
       "0   8.916581+0.000000j   0.031846+0.000000j       2\n",
       "1  10.794273+0.000000j   0.650333+0.000000j       2\n",
       "2  10.395825+0.000000j  -0.377559+0.000000j       2\n",
       "3  -9.910839+0.000000j  10.090177+0.000000j       2\n",
       "4  -8.223347+0.000000j -11.444286+0.000000j       2"
      ]
     },
     "execution_count": 156,
     "metadata": {},
     "output_type": "execute_result"
    }
   ],
   "source": [
    "Xnew = np.dot(v.T,Xcenter) \n",
    "df=pd.DataFrame()\n",
    "df['xnew0']=Xnew[0]\n",
    "df['xnew1']=Xnew[1]\n",
    "df['target']=full_data.ROOM\n",
    "df"
   ]
  },
  {
   "cell_type": "code",
   "execution_count": 141,
   "metadata": {},
   "outputs": [
    {
     "data": {
      "image/png": "[encoded data removed]",
      "text/plain": [
       "<Figure size 576x576 with 1 Axes>"
      ]
     },
     "metadata": {
      "needs_background": "light"
     },
     "output_type": "display_data"
    }
   ],
   "source": [
    "fig = plt.figure(figsize = (8,8))\n",
    "ax = fig.add_subplot(1,1,1) \n",
    "ax.set_xlabel('Principal Component 1', fontsize = 15)\n",
    "ax.set_ylabel('Principal Component 2', fontsize = 15)\n",
    "ax.set_title('2 component PCA', fontsize = 20)\n",
    "targets = [2,3]\n",
    "colors = ['r','g']\n",
    "for target, color in zip(targets,colors):\n",
    "    indicesToKeep = df.target == target\n",
    "    ax.scatter(df.xnew0\n",
    "               ,df.xnew1\n",
    "               , c = color\n",
    "               , s = 50)\n",
    "ax.legend(targets)\n",
    "ax.grid()"
   ]
  },
  {
   "cell_type": "markdown",
   "metadata": {},
   "source": [
    "## Регрессия"
   ]
  },
  {
   "cell_type": "code",
   "execution_count": 60,
   "metadata": {},
   "outputs": [
    {
     "name": "stdout",
     "output_type": "stream",
     "text": [
      "recall=0.962879 accuracy=0.964850\n"
     ]
    }
   ],
   "source": [
    "log_model = Pipeline([('scaler', StandardScaler()),('log',LogisticRegression(random_state=42))])\n",
    "log_cv_accuracy = cross_val_score(log_model, data_log_X, data_log_y, cv=cv, scoring='accuracy')\n",
    "log_cv_recall = cross_val_score(log_model, data_log_X, data_log_y, cv=cv, scoring='recall_macro')\n",
    "print('recall={:2f} accuracy={:2f}'.format(log_cv_recall.mean(),(log_cv_accuracy.mean())))"
   ]
  },
  {
   "cell_type": "code",
   "execution_count": 109,
   "metadata": {},
   "outputs": [],
   "source": [
    "for split_idx,(train_idx,test_idx) in enumerate(cv.split(data_log_X,data_log_y)):\n",
    "    X_train,X_test = data_log_X.iloc[train_idx],data_log_X.iloc[test_idx]\n",
    "    y_train,y_test = data_log_y[train_idx],data_log_y[test_idx]\n",
    "    log_model.fit(X_train,y_train)\n",
    "    #print('X_test\\n{}\\n'.format(X_test))\n",
    "    #print('prediction:\\n{} \\n probabylity:\\n{}'.format(log_model.predict(X_test),log_model.predict_proba(X_test)))"
   ]
  },
  {
   "cell_type": "code",
   "execution_count": 62,
   "metadata": {},
   "outputs": [
    {
     "name": "stdout",
     "output_type": "stream",
     "text": [
      "recall=0.751989 accuracy=0.764035\n"
     ]
    }
   ],
   "source": [
    "log_model2 = Pipeline([('scaler', StandardScaler()),('pca',PCA(n_components=2)),('log',LogisticRegression(random_state=42))])\n",
    "log_cv_accuracy2 = cross_val_score(log_model2, data_log_X, data_log_y, cv=cv, scoring='accuracy')\n",
    "log_cv_recall2 = cross_val_score(log_model2, data_log_X, data_log_y, cv=cv, scoring='recall_macro')\n",
    "print('recall={:2f} accuracy={:2f}'.format(log_cv_recall2.mean(),(log_cv_accuracy2.mean())))"
   ]
  },
  {
   "cell_type": "code",
   "execution_count": 102,
   "metadata": {},
   "outputs": [],
   "source": [
    "for split_idx,(train_idx,test_idx) in enumerate(cv.split(data_log_X,data_log_y)):\n",
    "    X_train,X_test = data_log_X.iloc[train_idx],data_log_X.iloc[test_idx]\n",
    "    y_train,y_test = data_log_y[train_idx],data_log_y[test_idx]\n",
    "    log_model2.fit(X_train,y_train)\n",
    "    #print('X_test\\n{}\\n'.format(X_test))\n",
    "    #print('prediction:\\n{} \\n probabylity:\\n{}'.format(log_model2.predict(X_test),log_model2.predict_proba(X_test)))"
   ]
  },
  {
   "cell_type": "code",
   "execution_count": null,
   "metadata": {},
   "outputs": [],
   "source": []
  }
 ],
 "metadata": {
  "kernelspec": {
   "display_name": "Python 3",
   "language": "python",
   "name": "python3"
  },
  "language_info": {
   "codemirror_mode": {
    "name": "ipython",
    "version": 3
   },
   "file_extension": ".py",
   "mimetype": "text/x-python",
   "name": "python",
   "nbconvert_exporter": "python",
   "pygments_lexer": "ipython3",
   "version": "3.7.3"
  }
 },
 "nbformat": 4,
 "nbformat_minor": 4
}
