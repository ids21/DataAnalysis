{
 "cells": [
  {
   "cell_type": "markdown",
   "metadata": {},
   "source": [
    "## Критерий Ирвина"
   ]
  },
  {
   "cell_type": "markdown",
   "metadata": {},
   "source": [
    "При нормальном распределении исследуемого показателя для оценки элементов выборки на грубые ошибки (грубые погрешности) часто используют критерий Ирвина (иногда указывают, что критерий Ирвина может применяться при любом распределении или просто не учитывают вид распределения, но это ошибочный подход). В вариационном ряду значений выборки оценивают сомнительное значение на одном из концов ряда. Для этого вычисляют расчётное значение критерия Ирвина:"
   ]
  },
  {
   "cell_type": "markdown",
   "metadata": {},
   "source": [
    "Пороговое значнеие равно = 1.3"
   ]
  },
  {
   "cell_type": "code",
   "execution_count": 5,
   "metadata": {},
   "outputs": [],
   "source": [
    "l=1.3"
   ]
  },
  {
   "cell_type": "code",
   "execution_count": 1,
   "metadata": {},
   "outputs": [
    {
     "name": "stdout",
     "output_type": "stream",
     "text": [
      "аномальное значение - 142.77\n",
      "аномальное значение - 124.92\n",
      "значение в порядке нормы - 115.21\n",
      "значение в порядке нормы - 113.02\n",
      "значение в порядке нормы - 110.01\n",
      "значение в порядке нормы - 105.08\n",
      "значение в порядке нормы - 100.8\n",
      "значение в порядке нормы - 104.57\n",
      "значение в порядке нормы - 105.28\n",
      "значение в порядке нормы - 103.03\n",
      "значение в порядке нормы - 100.5\n",
      "значение в порядке нормы - 101.31\n",
      "значение в порядке нормы - 103.03\n",
      "значение в порядке нормы - 101.0\n",
      "аномальное значение - 143.81\n",
      "аномальное значение - 123.27\n",
      "значение в порядке нормы - 116.0\n",
      "значение в порядке нормы - 107.3\n"
     ]
    }
   ],
   "source": [
    "import numpy as np\n",
    "import math\n",
    "data = np.array([100,142.77,124.92,115.21,113.02,110.01,105.08,100.8,104.57,105.28,103.03,100.5,101.31,103.03,101,143.81,123.27,116,107.3],float)\n",
    "avg = data.mean()\n",
    "sto = np.nanstd(data,ddof=1)\n",
    "disp = np.nanvar(data)\n",
    "for i in range(1,len(data)):\n",
    "    lamda = abs(data[i]-data[i-1])/sto\n",
    "    if(lamda > 1.3):\n",
    "        print('аномальное значение - {}'.format(data[i]))\n",
    "    else:\n",
    "        print('значение в порядке нормы - {}'.format(data[i]))\n"
   ]
  },
  {
   "cell_type": "markdown",
   "metadata": {},
   "source": [
    "# Построение автокорреляционной функции"
   ]
  },
  {
   "cell_type": "code",
   "execution_count": 125,
   "metadata": {},
   "outputs": [],
   "source": [
    "#автокорреляция\n",
    "import pandas as pd\n",
    "yt = [5.6,4.7,5.2,9.1,7.0,5.1,6.0,10.2,8.2,5.6,6.4,10.8,9.1,6.7,7.5,11.3]\n",
    "yt_1 = yt[0:15:1]\n",
    "yt_1.insert(0,0)"
   ]
  },
  {
   "cell_type": "markdown",
   "metadata": {},
   "source": [
    "Рассчитаем коэффициент автокорреляции уровней ряда первого порядка, то есть между соседними уровнями ряда yt и yt-1 (лаг = 1), и измерим тесноту связи между объёмом потребления электроэнергии в текущем и предыдущем году.\n",
    "\n",
    "Для этого составим таблицу расчётных данных.\n",
    "\n",
    "Расчёт коэффициента автокорреляции первого порядка для временного ряда объемов потребления электроэнергии жителями региона:\n"
   ]
  },
  {
   "cell_type": "code",
   "execution_count": 186,
   "metadata": {},
   "outputs": [
    {
     "name": "stdout",
     "output_type": "stream",
     "text": [
      "выборочное среднее y1=7.526666666666666 и y2=7.1466666666666665\n"
     ]
    }
   ],
   "source": [
    "#Рассчитаем выборочные средние :\n",
    "vib_sr1 = sum(yt[1::])/(len(yt)-1)\n",
    "vib_sr2 = sum(yt_1[1::])/(len(yt_1)-1)\n",
    "print('выборочное среднее y1={} и y2={}'.format(vib_sr1,vib_sr2))"
   ]
  },
  {
   "cell_type": "code",
   "execution_count": 187,
   "metadata": {},
   "outputs": [
    {
     "data": {
      "text/plain": [
       "0.19169993295107782"
      ]
     },
     "execution_count": 187,
     "metadata": {},
     "output_type": "execute_result"
    }
   ],
   "source": [
    "#Определим коэффициент автокорреляции уровней ряда первого порядка:\n",
    "\n",
    "def multF(x,y):\n",
    "    return [x[i]*y[i] for i in range(len(x))]\n",
    "\n",
    "minusF1 = [i-vib_sr1 for i in yt[1::]]\n",
    "minusF2 = [i-vib_sr2 for i in yt_1[1::]]\n",
    "minus_powF1 = [(i-vib_sr1)**2 for i in yt[1::]]\n",
    "minus_powF2 = [(i-vib_sr2)**2 for i in yt_1[1::]]\n",
    "r1 = sum(multF(minusF1,minusF2)) / np.sqrt((sum(minus_powF1)*sum(minus_powF2)))\n",
    "r1\n"
   ]
  },
  {
   "cell_type": "markdown",
   "metadata": {},
   "source": [
    "Полученное значение свидетельствует об очень слабой зависимости текущих уровней ряда от непосредственно им предшествующих уровней."
   ]
  },
  {
   "cell_type": "code",
   "execution_count": 192,
   "metadata": {},
   "outputs": [],
   "source": [
    "    res=[] # автокоррелцяцонная функция \n",
    "    res.append(r1)\n",
    "    for i in range(2,9):\n",
    "        yt_n = yt[0:(16-i):1]\n",
    "        for k in range(i):\n",
    "            yt_n.insert(0,0)\n",
    "        vib_srn = sum(yt_n[i::])/(len(yt_n)-i)\n",
    "        vib_sr1 = sum(yt[i::])/(len(yt)-i)  \n",
    "        minusF1 = [i-vib_sr1 for i in yt[i::]]\n",
    "        minusF2 = [i-vib_srn for i in yt_n[i::]]\n",
    "        minus_powF1 = [(i-vib_sr1)**2 for i in yt[i::]]\n",
    "        minus_powF2 = [(i-vib_srn)**2 for i in yt_n[i::]]\n",
    "        res.append(sum(multF(minusF1,minusF2)) / np.sqrt((sum(minus_powF1)*sum(minus_powF2))))\n",
    "\n"
   ]
  },
  {
   "cell_type": "code",
   "execution_count": 204,
   "metadata": {},
   "outputs": [
    {
     "data": {
      "text/plain": [
       "Text(0.5, 0, 'Лаг')"
      ]
     },
     "execution_count": 204,
     "metadata": {},
     "output_type": "execute_result"
    },
    {
     "data": {
      "image/png": "[encoded data removed]",
      "text/plain": [
       "<Figure size 432x288 with 1 Axes>"
      ]
     },
     "metadata": {
      "needs_background": "light"
     },
     "output_type": "display_data"
    }
   ],
   "source": [
    "import matplotlib.pyplot as plt\n",
    "%matplotlib inline\n",
    "plt.plot(range(0,8),res)\n",
    "plt.ylabel('Коэффициент автокорреляции уровней')\n",
    "plt.xlabel('Лаг')"
   ]
  },
  {
   "cell_type": "markdown",
   "metadata": {},
   "source": [
    "Анализ значений автокорреляционной функции позволяет сделать вывод о наличии в изучаемом временном ряде линейной тенденции и сезонных колебаний периодичностью в 4 квартала."
   ]
  },
  {
   "cell_type": "code",
   "execution_count": null,
   "metadata": {},
   "outputs": [],
   "source": []
  },
  {
   "cell_type": "code",
   "execution_count": null,
   "metadata": {},
   "outputs": [],
   "source": []
  },
  {
   "cell_type": "code",
   "execution_count": null,
   "metadata": {},
   "outputs": [],
   "source": []
  }
 ],
 "metadata": {
  "kernelspec": {
   "display_name": "Python 3",
   "language": "python",
   "name": "python3"
  },
  "language_info": {
   "codemirror_mode": {
    "name": "ipython",
    "version": 3
   },
   "file_extension": ".py",
   "mimetype": "text/x-python",
   "name": "python",
   "nbconvert_exporter": "python",
   "pygments_lexer": "ipython3",
   "version": "3.7.3"
  }
 },
 "nbformat": 4,
 "nbformat_minor": 4
}
