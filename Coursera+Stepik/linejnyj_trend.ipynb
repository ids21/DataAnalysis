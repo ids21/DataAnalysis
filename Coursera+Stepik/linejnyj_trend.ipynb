{
 "cells": [
  {
   "cell_type": "markdown",
   "metadata": {},
   "source": [
    "# Анализ и моделирование тенденции"
   ]
  },
  {
   "cell_type": "code",
   "execution_count": 20,
   "metadata": {},
   "outputs": [
    {
     "name": "stdout",
     "output_type": "stream",
     "text": [
      "a0=3.1573333333333338 and a1=-0.17169696969696974\n"
     ]
    }
   ],
   "source": [
    "import pandas as pd\n",
    "import numpy as np\n",
    "import matplotlib.pyplot as plt\n",
    "%matplotlib inline\n",
    "\n",
    "num = [2.99,2.66,2.63,2.56,2.40,2.22,1.97,1.72,1.56,1.42]\n",
    "data = pd.DataFrame({'t':range(1,len(num)+1),'y':num})\n",
    "def lin_tre(df):\n",
    "    t_mean = df.t.mean()\n",
    "    y_mean = df.y.mean()\n",
    "    sub_t = [df.t.to_numpy()[i]-t_mean for i in range(df.t.count())]\n",
    "    sub_y = [df.y.to_numpy()[i]-y_mean for i in range(df.y.count())]\n",
    "    sumt = sum(sub_t)\n",
    "    sumy = sum(sub_y)\n",
    "    sumt2 = sum((np.array(sub_t)**2))\n",
    "    sumyt = np.array(sub_t)*np.array(sub_y)\n",
    "    sumyt = sum(sumyt)\n",
    "    a1 = (sumyt - sumt*sumy/df.t.count())/(sumt2 - sumt**2 / df.t.count())\n",
    "    a0 = y_mean-a1*t_mean\n",
    "    \n",
    "    return a0,a1\n",
    "\n",
    "a0,a1 = lin_tre(data)\n",
    "print('a0={} and a1={}'.format(a0,a1))\n"
   ]
  },
  {
   "cell_type": "code",
   "execution_count": 24,
   "metadata": {},
   "outputs": [
    {
     "data": {
      "text/plain": [
       "[<matplotlib.lines.Line2D at 0x1a64d491ac8>]"
      ]
     },
     "execution_count": 24,
     "metadata": {},
     "output_type": "execute_result"
    },
    {
     "data": {
      "image/png": "[encoded data removed]",
      "text/plain": [
       "<Figure size 432x288 with 1 Axes>"
      ]
     },
     "metadata": {
      "needs_background": "light"
     },
     "output_type": "display_data"
    }
   ],
   "source": [
    "plt.plot(num)"
   ]
  }
 ],
 "metadata": {
  "kernelspec": {
   "display_name": "Python 3",
   "language": "python",
   "name": "python3"
  },
  "language_info": {
   "codemirror_mode": {
    "name": "ipython",
    "version": 3
   },
   "file_extension": ".py",
   "mimetype": "text/x-python",
   "name": "python",
   "nbconvert_exporter": "python",
   "pygments_lexer": "ipython3",
   "version": "3.7.3"
  }
 },
 "nbformat": 4,
 "nbformat_minor": 4
}
