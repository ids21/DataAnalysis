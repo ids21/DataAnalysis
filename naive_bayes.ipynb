{
 "cells": [
  {
   "cell_type": "code",
   "execution_count": 2,
   "metadata": {},
   "outputs": [],
   "source": [
    "from sklearn.datasets import load_digits\n",
    "from sklearn.datasets import load_breast_cancer\n",
    "from sklearn.model_selection import cross_val_score\n",
    "import numpy as np\n",
    "import pandas as pd \n",
    "from sklearn.naive_bayes import GaussianNB,MultinomialNB,BernoulliNB "
   ]
  },
  {
   "cell_type": "code",
   "execution_count": 3,
   "metadata": {},
   "outputs": [],
   "source": [
    "digits_data,digits_target = load_digits().data, load_digits().target "
   ]
  },
  {
   "cell_type": "code",
   "execution_count": 319,
   "metadata": {},
   "outputs": [],
   "source": [
    "cancer_data,cancer_target = load_breast_cancer().data, load_breast_cancer().target "
   ]
  },
  {
   "cell_type": "code",
   "execution_count": 42,
   "metadata": {},
   "outputs": [
    {
     "name": "stdout",
     "output_type": "stream",
     "text": [
      "digits_data: mean cross_val_score for GaussianNB= 0.8069281956050759 \n",
      "digits_data: mean cross_val_score for MultinomialNB =0.8703497369235531\n",
      "digits_data: mean cross_val_score fro BernoulliNB =0.8241736304549674\n"
     ]
    }
   ],
   "source": [
    "print(\"digits_data: mean cross_val_score for GaussianNB= {} \".format(cross_val_score(GaussianNB(),digits_data,digits_target).mean()))\n",
    "print(\"digits_data: mean cross_val_score for MultinomialNB ={}\".format(cross_val_score(MultinomialNB(),digits_data,digits_target).mean()))\n",
    "print(\"digits_data: mean cross_val_score fro BernoulliNB ={}\".format(cross_val_score(BernoulliNB(),digits_data,digits_target).mean()))"
   ]
  },
  {
   "cell_type": "code",
   "execution_count": 301,
   "metadata": {},
   "outputs": [
    {
     "name": "stdout",
     "output_type": "stream",
     "text": [
      "cancer_data: mean cross_val_score for GaussianNB = 0.9385188635305075 \n",
      "cancer_data: mean cross_val_score for MultinomialNB =0.8963204471355379\n",
      "cancer_data: mean cross_val_score fro BernoulliNB =0.6274181027790716\n"
     ]
    }
   ],
   "source": [
    "print(\"cancer_data: mean cross_val_score for GaussianNB = {} \".format(cross_val_score(GaussianNB(),cancer_data,cancer_target).mean()))\n",
    "print(\"cancer_data: mean cross_val_score for MultinomialNB ={}\".format(cross_val_score(MultinomialNB(),cancer_data,cancer_target).mean()))\n",
    "print(\"cancer_data: mean cross_val_score fro BernoulliNB ={}\".format(cross_val_score(BernoulliNB(),cancer_data,cancer_target).mean()))"
   ]
  },
  {
   "cell_type": "markdown",
   "metadata": {},
   "source": [
    "Из-за бинарной классификации у нас GaussianNB выдал max "
   ]
  },
  {
   "cell_type": "markdown",
   "metadata": {},
   "source": [
    "0.8703497369235531 max результат на датасете digits"
   ]
  },
  {
   "cell_type": "markdown",
   "metadata": {},
   "source": [
    " На вещественных признаках лучше всего сработало нормальное распределение\n",
    " Мультиномиальное распределение лучше показало себя на выборке с целыми неотрицательными значениями признаков"
   ]
  },
  {
   "cell_type": "code",
   "execution_count": 8,
   "metadata": {},
   "outputs": [
    {
     "data": {
      "text/html": [
       "<img src=\"https://camo.githubusercontent.com/b69ee18a266f5834eeb60eb4e3326a0adbdbaf15/68747470733a2f2f6769746875622e636f6d2f6c6f70654c482f476175737369616e2d42617965732d636c61737369666965722f626c6f622f6d61737465722f70726f62732e504e473f7261773d74727565\"/>"
      ],
      "text/plain": [
       "<IPython.core.display.Image object>"
      ]
     },
     "execution_count": 8,
     "metadata": {},
     "output_type": "execute_result"
    }
   ],
   "source": [
    "from IPython.display import Image\n",
    "Image(url= \"https://camo.githubusercontent.com/b69ee18a266f5834eeb60eb4e3326a0adbdbaf15/68747470733a2f2f6769746875622e636f6d2f6c6f70654c482f476175737369616e2d42617965732d636c61737369666965722f626c6f622f6d61737465722f70726f62732e504e473f7261773d74727565\")"
   ]
  },
  {
   "cell_type": "code",
   "execution_count": 45,
   "metadata": {},
   "outputs": [],
   "source": [
    "class gaussianNB:\n",
    "    def __init__(self,*,mu = None,cov = None,n_classes = None):\n",
    "        a=None\n",
    "        self.mu = mu\n",
    "        self.cov = cov\n",
    "        self.n_classes = n_classes\n",
    "    \"\"\"\n",
    "    @staticmethod\n",
    "    def __call_probability(x,mean,var):\n",
    "        \n",
    "        exponent = np.exp(-(math.pow(x - mean, 2) / (2 * var)))\n",
    "        return (1 / (np.sqrt(2 * np.pi * var))) * exponent\n",
    "    \"\"\"  \n",
    "    \n",
    "    def fit(self, X,y):\n",
    "        self.mu = []\n",
    "        self.cov = []\n",
    "        \n",
    "        self.n_classes = np.max(y)+1\n",
    "        \n",
    "        for i in range(self.n_classes):\n",
    "            Xc = X[y==i]\n",
    "            mu_c = np.mean(Xc, axis=0)\n",
    "            self.mu.append(mu_c)\n",
    "            \n",
    "            cov_c = np.zeros((X.shape[1], X.shape[1]))\n",
    "            for j in range(Xc.shape[0]):\n",
    "                a = Xc[j].reshape((X.shape[1],1))\n",
    "                b = Xc[j].reshape((1,X.shape[1]))\n",
    "                cov_ci = np.multiply(a, b)\n",
    "                cov_c = cov_c+cov_ci\n",
    "            cov_c = cov_c/float(X.shape[0])\n",
    "            self.cov.append(cov_c)\n",
    "        self.mu = np.asarray(self.mu)\n",
    "        self.cov = np.asarray(self.cov)\n",
    "\n",
    "    def predict_proba(self,x):\n",
    "        prob_vect = np.zeros(self.n_classes)\n",
    "        \n",
    "        for i in range(self.n_classes):\n",
    "            mnormal = multivariate_normal(mean=self.mu[i], cov=self.cov[i],allow_singular=True)      \n",
    "            prior = 1./self.n_classes\n",
    "            prob_vect[i] = prior*mnormal.pdf(x)\n",
    "            sumatory = 0.\n",
    "            for j in range(self.n_classes):\n",
    "                mnormal = multivariate_normal(mean=self.mu[j], cov=self.cov[j],allow_singular=True)\n",
    "                sumatory += prior*mnormal.pdf(x)\n",
    "            prob_vect[i] = prob_vect[i]/sumatory\n",
    "        return prob_vect\n",
    "    \n",
    "    def predict(self,x):\n",
    "        return np.argmax(self.predict_proba(x))\n",
    "        "
   ]
  },
  {
   "cell_type": "code",
   "execution_count": 316,
   "metadata": {},
   "outputs": [],
   "source": [
    "class multinomialNB:\n",
    "    \n",
    "    def __init__(self, classes):\n",
    "        self.classes = set(classes)\n",
    "        self.prob_matrix = {}\n",
    "        self.prob_classes = {}\n",
    "        \n",
    "    def fit(self, X, y, alpha=1):\n",
    "\n",
    "        y = np.array(y)\n",
    "        X = np.array(X)\n",
    "        feature_nums = len(X[0])\n",
    "        sample_nums = len(X)\n",
    "        classes_nums = len(self.classes)\n",
    "        self.prob_matrix = {}\n",
    "        self.prob_classes = {}\n",
    "        for k in self.classes:\n",
    "            sample_nums_k = len(y[y == k])\n",
    "            #p(y)\n",
    "            self.prob_classes[k] = (sample_nums_k + alpha) / (sample_nums + classes_nums * alpha)\n",
    "            #p(x|y)\n",
    "            self.prob_matrix[k] = (np.sum(X[y == k, :], axis=0) + alpha) / (sample_nums_k * feature_nums +  feature_nums * alpha)\n",
    "        return self\n",
    "        \n",
    "    def _predict(self, sample):\n",
    "        \n",
    "        result = {}\n",
    "        for k in self.classes:\n",
    "            log_post_prob = np.sum(np.log(self.prob_matrix[k][sample > 0]) * sample[sample > 0]) + \\\n",
    "                            np.sum(np.log(1 - self.prob_matrix[k][sample == 0]))\n",
    "            log_prior_prob = np.log(self.prob_classes[k])\n",
    "            result[k] = log_post_prob + log_prior_prob\n",
    "        return max(result, key=result.get)\n",
    "    \n",
    "    def predict(self, X):\n",
    "        if X.ndim == 1:\n",
    "            return self._predict(X)\n",
    "        else:\n",
    "            return np.apply_along_axis(self._predict, 1, X)\n",
    "        \n",
    "    "
   ]
  },
  {
   "cell_type": "code",
   "execution_count": 320,
   "metadata": {},
   "outputs": [
    {
     "name": "stdout",
     "output_type": "stream",
     "text": [
      "modified naive Gaussian bayes score for cancer_data: 0.956140350877193\n"
     ]
    }
   ],
   "source": [
    "import math\n",
    "from sklearn.metrics import accuracy_score\n",
    "from scipy.stats import multivariate_normal\n",
    "from scipy.stats import norminvgauss\n",
    "from sklearn.model_selection import train_test_split\n",
    "model = gaussianNB()\n",
    "X_train, X_test, y_train, y_test = train_test_split(cancer_data,cancer_target, test_size=0.4, random_state=0)\n",
    "\n",
    "model.fit(X_train,y_train)\n",
    "hit = 0.\n",
    "for i in range(X_test.shape[0]):\n",
    "    ypred = model.predict(X_test[i])\n",
    "    if ypred == y_test[i]:\n",
    "        hit += 1\n",
    "\n",
    "print (\"modified naive Gaussian bayes score for cancer_data: \"+str(hit/X_test.shape[0]))"
   ]
  },
  {
   "cell_type": "code",
   "execution_count": 321,
   "metadata": {},
   "outputs": [
    {
     "name": "stdout",
     "output_type": "stream",
     "text": [
      "multinomial naive bayes score for cancer_data: 0.36403508771929827\n"
     ]
    }
   ],
   "source": [
    "mul_model = multinomialNB(np.unique(cancer_target))\n",
    "mul_model.fit(X_train,y_train,alpha=1)\n",
    "predict = mul_model.predict(X_test)\n",
    "print (\"multinomial naive bayes score for cancer_data: \"+str(accuracy_score(predict,y_test)))"
   ]
  },
  {
   "cell_type": "code",
   "execution_count": 322,
   "metadata": {},
   "outputs": [
    {
     "name": "stdout",
     "output_type": "stream",
     "text": [
      "multinomial naive bayes score for cancer_data: 0.8692628650904033\n"
     ]
    }
   ],
   "source": [
    "X_train, X_test, y_train, y_test = train_test_split(digits_data,digits_target, test_size=0.4, random_state=0)\n",
    "mul_model = multinomialNB(np.unique(digits_target))\n",
    "mul_model.fit(X_train,y_train,alpha=1)\n",
    "predict = mul_model.predict(X_test)\n",
    "print (\"multinomial naive bayes score for cancer_data: \"+str(accuracy_score(predict,y_test)))\n"
   ]
  }
 ],
 "metadata": {
  "kernelspec": {
   "display_name": "Python 3",
   "language": "python",
   "name": "python3"
  },
  "language_info": {
   "codemirror_mode": {
    "name": "ipython",
    "version": 3
   },
   "file_extension": ".py",
   "mimetype": "text/x-python",
   "name": "python",
   "nbconvert_exporter": "python",
   "pygments_lexer": "ipython3",
   "version": "3.6.12"
  }
 },
 "nbformat": 4,
 "nbformat_minor": 4
}
