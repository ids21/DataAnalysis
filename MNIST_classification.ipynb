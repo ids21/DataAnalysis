{
 "cells": [
  {
   "cell_type": "code",
   "execution_count": 1,
   "metadata": {},
   "outputs": [],
   "source": [
    "import numpy as np\n",
    "import pandas as pd\n",
    "from sklearn.model_selection import train_test_split\n",
    "from sklearn.metrics import classification_report\n",
    "import tensorflow as tf\n"
   ]
  },
  {
   "cell_type": "code",
   "execution_count": 9,
   "metadata": {},
   "outputs": [],
   "source": [
    "from tensorflow.python.keras.callbacks import ModelCheckpoint"
   ]
  },
  {
   "cell_type": "code",
   "execution_count": 2,
   "metadata": {},
   "outputs": [
    {
     "data": {
      "text/html": [
       "        <script type=\"text/javascript\">\n",
       "        window.PlotlyConfig = {MathJaxConfig: 'local'};\n",
       "        if (window.MathJax) {MathJax.Hub.Config({SVG: {font: \"STIX-Web\"}});}\n",
       "        if (typeof require !== 'undefined') {\n",
       "        require.undef(\"plotly\");\n",
       "        requirejs.config({\n",
       "            paths: {\n",
       "                'plotly': ['https://cdn.plot.ly/plotly-latest.min']\n",
       "            }\n",
       "        });\n",
       "        require(['plotly'], function(Plotly) {\n",
       "            window._Plotly = Plotly;\n",
       "        });\n",
       "        }\n",
       "        </script>\n",
       "        "
      ]
     },
     "metadata": {},
     "output_type": "display_data"
    }
   ],
   "source": [
    "from tensorflow.compat.v1.keras.models import Sequential\n",
    "from tensorflow.compat.v1.keras.layers import Dense, Flatten, Conv2D, Dropout, MaxPooling2D\n",
    "from IPython.display import SVG\n",
    "from tensorflow.compat.v1.keras.utils import model_to_dot\n",
    "from tensorflow.compat.v1.keras.utils import plot_model\n",
    "import seaborn as sns\n",
    "import matplotlib.pyplot as plt\n",
    "%matplotlib inline \n",
    "import plotly.graph_objs as go\n",
    "import plotly.figure_factory as ff\n",
    "from plotly import tools\n",
    "from plotly.offline import download_plotlyjs, init_notebook_mode, plot, iplot\n",
    "init_notebook_mode(connected=True)"
   ]
  },
  {
   "cell_type": "code",
   "execution_count": 7,
   "metadata": {},
   "outputs": [],
   "source": [
    "#MNIST dataset parameters.\n",
    "\n",
    "num_classes = 10 # 0 to 9 digits\n",
    "\n",
    "num_features = 784 # 28*28\n",
    "\n",
    "# Training parameters.\n",
    "\n",
    "learning_rate = 0.01\n",
    "\n",
    "epochs = 10000\n",
    "\n",
    "batch_size = 256\n",
    "\n",
    "display_step = 50"
   ]
  },
  {
   "cell_type": "code",
   "execution_count": 12,
   "metadata": {},
   "outputs": [
    {
     "data": {
      "text/plain": [
       "(60000, 785)"
      ]
     },
     "execution_count": 12,
     "metadata": {},
     "output_type": "execute_result"
    }
   ],
   "source": [
    "train_data = pd.read_csv(r\"files/fashion-mnist_train.csv\")\n",
    "test_data = pd.read_csv(r\"files/fashion-mnist_test.csv\")\n",
    "train_data.shape"
   ]
  },
  {
   "cell_type": "code",
   "execution_count": 16,
   "metadata": {},
   "outputs": [],
   "source": [
    "# Create a dictionary for each type of label \n",
    "labels = [\"T-shirt/top\",\"Trouser\",\"Pullover\",\"Dress\",\"Coat\",\n",
    "          \"Sandal\",\"Shirt\",\"Sneaker\",\"Bag\",\"Ankle Boot\"]"
   ]
  },
  {
   "cell_type": "code",
   "execution_count": 17,
   "metadata": {},
   "outputs": [
    {
     "data": {
      "image/png": "[encoded data removed]",
      "text/plain": [
       "<Figure size 720x720 with 1 Axes>"
      ]
     },
     "metadata": {
      "needs_background": "light"
     },
     "output_type": "display_data"
    }
   ],
   "source": [
    "def plot_labels(data):\n",
    "    plt.figure(figsize=(10,10))\n",
    "    sns.set_style(\"white\")\n",
    "    ax = sns.barplot(x=labels, y=pd.value_counts(data['label'].values), linewidth=5,edgecolor=sns.color_palette(\"dark\", 10))\n",
    "    plt.title(\"Frequency of classes\")\n",
    "\n",
    "plot_labels(train_data)    "
   ]
  },
  {
   "cell_type": "code",
   "execution_count": null,
   "metadata": {},
   "outputs": [],
   "source": [
    "def plot_images(data): \n",
    "    fig = plt.figure(figsize=(12,6))\n",
    "    X = data.drop('label', axis = 1).values.reshape(data.shape[0], 28, 28)\n",
    "    for num, x in enumerate(X[0:5]):\n",
    "        plt.subplot(1,5,num+1)\n",
    "        plt.axis('off')\n",
    "        plt.imshow(x)\n",
    "        plt.title(labels[data.label[num]])\n",
    "plot_images(train_data)"
   ]
  },
  {
   "cell_type": "code",
   "execution_count": 13,
   "metadata": {},
   "outputs": [
    {
     "data": {
      "text/plain": [
       "(60000, 784)"
      ]
     },
     "execution_count": 13,
     "metadata": {},
     "output_type": "execute_result"
    }
   ],
   "source": [
    "x_train, x_test = np.array(train_data.iloc[:,1:], np.float32), np.array(test_data.iloc[:,1:], np.float32)\n",
    "x_train, x_test = x_train.reshape([-1, num_features]), x_test.reshape([-1, num_features])\n",
    "x_train, x_test = x_train / 255., x_test/ 255.\n",
    "x_train.shape"
   ]
  },
  {
   "cell_type": "code",
   "execution_count": 35,
   "metadata": {},
   "outputs": [],
   "source": [
    "y_train = train_data.iloc[:,:1].to_numpy()\n",
    "y_test = test_data.iloc[:,:1].to_numpy()\n",
    "#y_train = tf.keras.utils.to_categorical(y_train, 10)\n",
    "#y_test = tf.keras.utils.to_categorical(y_test, 10)"
   ]
  },
  {
   "cell_type": "code",
   "execution_count": 8,
   "metadata": {},
   "outputs": [],
   "source": [
    "weights = tf.Variable(tf.ones([num_features, num_classes]), name=\"weight\")\n",
    "# Bias of shape [10], the total number of classes.\n",
    "biases = tf.Variable(tf.zeros([num_classes]), name=\"bias\")"
   ]
  },
  {
   "cell_type": "markdown",
   "metadata": {},
   "source": [
    "## LogisticRegression"
   ]
  },
  {
   "cell_type": "code",
   "execution_count": 22,
   "metadata": {},
   "outputs": [],
   "source": [
    "\"\"\"\n",
    "def logistic_regression(x):\n",
    "    return tf.nn.softmax(tf.matmul(x, weights) + biases)\n",
    "\n",
    "def cross_entropy(y_true, y_pred):\n",
    "    y_true = tf.one_hot(y_true, 10)\n",
    "    y_pred = tf.clip_by_value(y_pred, 1e-9, 1.)\n",
    "    cost = tf.reduce_mean(-tf.compat.v1.reduce_sum(y_true*tf.math.log(y_pred), reduction_indices=1))\n",
    "    \n",
    "    return cost\n",
    "\n",
    "def accuracy(y_true, y_pred):\n",
    "    \n",
    "    #correct_prediction = tf.equal(tf.argmax(y_pred, 1), tf.argmax(y_true, 1))\n",
    "    #accuracy = tf.reduce_mean(tf.cast(correct_prediction, tf.float32))\n",
    "    #return accuracy\n",
    "    correct_prediction = tf.equal(tf.argmax(y_pred, 1), tf.cast(y_true, tf.int64))\n",
    "    return tf.reduce_mean(tf.cast(correct_prediction, tf.float32))\n",
    "\n",
    "optimizer = tf.optimizers.SGD(learning_rate)\n",
    "def grad(x, y):\n",
    "    with tf.GradientTape() as tape:\n",
    "        y_pred = logistic_regression(x)\n",
    "        loss_val = cross_entropy(y, y_pred)\n",
    "    gradients = tape.gradient(loss_val, [weights, biases])\n",
    "    optimizer.apply_gradients(zip(gradients, [weights, biases]))\n",
    "\n",
    "\"\"\""
   ]
  },
  {
   "cell_type": "code",
   "execution_count": 16,
   "metadata": {},
   "outputs": [
    {
     "name": "stdout",
     "output_type": "stream",
     "text": [
      "Train on 60000 samples, validate on 10000 samples\n",
      "Epoch 1/20\n",
      "58500/60000 [============================>.] - ETA: 0s - loss: 1.6820 - accuracy: 0.4902WARNING:tensorflow:Can save best model only with val_acc available, skipping.\n",
      "60000/60000 [==============================] - 3s 50us/sample - loss: 1.6718 - accuracy: 0.4941 - val_loss: 1.2724 - val_accuracy: 0.6404\n",
      "Epoch 2/20\n",
      "59500/60000 [============================>.] - ETA: 0s - loss: 1.1327 - accuracy: 0.6632WARNING:tensorflow:Can save best model only with val_acc available, skipping.\n",
      "60000/60000 [==============================] - 2s 39us/sample - loss: 1.1317 - accuracy: 0.6634 - val_loss: 1.0296 - val_accuracy: 0.6774\n",
      "Epoch 3/20\n",
      "59500/60000 [============================>.] - ETA: 0s - loss: 0.9697 - accuracy: 0.6932WARNING:tensorflow:Can save best model only with val_acc available, skipping.\n",
      "60000/60000 [==============================] - 2s 35us/sample - loss: 0.9694 - accuracy: 0.6935 - val_loss: 0.9224 - val_accuracy: 0.7031\n",
      "Epoch 4/20\n",
      "59500/60000 [============================>.] - ETA: 0s - loss: 0.8858 - accuracy: 0.7166WARNING:tensorflow:Can save best model only with val_acc available, skipping.\n",
      "60000/60000 [==============================] - 2s 29us/sample - loss: 0.8856 - accuracy: 0.7167 - val_loss: 0.8576 - val_accuracy: 0.7249\n",
      "Epoch 5/20\n",
      "58000/60000 [============================>.] - ETA: 0s - loss: 0.8327 - accuracy: 0.7335WARNING:tensorflow:Can save best model only with val_acc available, skipping.\n",
      "60000/60000 [==============================] - 2s 37us/sample - loss: 0.8316 - accuracy: 0.7336 - val_loss: 0.8136 - val_accuracy: 0.7377\n",
      "Epoch 6/20\n",
      "58000/60000 [============================>.] - ETA: 0s - loss: 0.7927 - accuracy: 0.7455WARNING:tensorflow:Can save best model only with val_acc available, skipping.\n",
      "60000/60000 [==============================] - 2s 33us/sample - loss: 0.7930 - accuracy: 0.7451 - val_loss: 0.7804 - val_accuracy: 0.7467\n",
      "Epoch 7/20\n",
      "59000/60000 [============================>.] - ETA: 0s - loss: 0.7635 - accuracy: 0.7557 ETA: 0s - loss: 0.7659 - accuWARNING:tensorflow:Can save best model only with val_acc available, skipping.\n",
      "60000/60000 [==============================] - 2s 40us/sample - loss: 0.7632 - accuracy: 0.7558 - val_loss: 0.7539 - val_accuracy: 0.7554\n",
      "Epoch 8/20\n",
      "58500/60000 [============================>.] - ETA: 0s - loss: 0.7390 - accuracy: 0.7624WARNING:tensorflow:Can save best model only with val_acc available, skipping.\n",
      "60000/60000 [==============================] - 2s 37us/sample - loss: 0.7392 - accuracy: 0.7626 - val_loss: 0.7326 - val_accuracy: 0.7637\n",
      "Epoch 9/20\n",
      "58500/60000 [============================>.] - ETA: 0s - loss: 0.7192 - accuracy: 0.7694 ETA: WARNING:tensorflow:Can save best model only with val_acc available, skipping.\n",
      "60000/60000 [==============================] - 2s 33us/sample - loss: 0.7193 - accuracy: 0.7695 - val_loss: 0.7144 - val_accuracy: 0.7693\n",
      "Epoch 10/20\n",
      "58500/60000 [============================>.] - ETA: 0s - loss: 0.7023 - accuracy: 0.7746WARNING:tensorflow:Can save best model only with val_acc available, skipping.\n",
      "60000/60000 [==============================] - 2s 28us/sample - loss: 0.7024 - accuracy: 0.7748 - val_loss: 0.6989 - val_accuracy: 0.7755\n",
      "Epoch 11/20\n",
      "58500/60000 [============================>.] - ETA: 0s - loss: 0.6874 - accuracy: 0.7801WARNING:tensorflow:Can save best model only with val_acc available, skipping.\n",
      "60000/60000 [==============================] - 2s 30us/sample - loss: 0.6878 - accuracy: 0.7798 - val_loss: 0.6857 - val_accuracy: 0.7798\n",
      "Epoch 12/20\n",
      "59000/60000 [============================>.] - ETA: 0s - loss: 0.6752 - accuracy: 0.7841WARNING:tensorflow:Can save best model only with val_acc available, skipping.\n",
      "60000/60000 [==============================] - 2s 33us/sample - loss: 0.6750 - accuracy: 0.7842 - val_loss: 0.6738 - val_accuracy: 0.7845\n",
      "Epoch 13/20\n",
      "57500/60000 [===========================>..] - ETA: 0s - loss: 0.6631 - accuracy: 0.7861WARNING:tensorflow:Can save best model only with val_acc available, skipping.\n",
      "60000/60000 [==============================] - 2s 27us/sample - loss: 0.6637 - accuracy: 0.7862 - val_loss: 0.6633 - val_accuracy: 0.7875\n",
      "Epoch 14/20\n",
      "58000/60000 [============================>.] - ETA: 0s - loss: 0.6538 - accuracy: 0.7901WARNING:tensorflow:Can save best model only with val_acc available, skipping.\n",
      "60000/60000 [==============================] - 2s 31us/sample - loss: 0.6536 - accuracy: 0.7901 - val_loss: 0.6536 - val_accuracy: 0.7908\n",
      "Epoch 15/20\n",
      "59000/60000 [============================>.] - ETA: 0s - loss: 0.6440 - accuracy: 0.7930WARNING:tensorflow:Can save best model only with val_acc available, skipping.\n",
      "60000/60000 [==============================] - 1s 21us/sample - loss: 0.6445 - accuracy: 0.7928 - val_loss: 0.6450 - val_accuracy: 0.7936\n",
      "Epoch 16/20\n",
      "59500/60000 [============================>.] - ETA: 0s - loss: 0.6363 - accuracy: 0.7961WARNING:tensorflow:Can save best model only with val_acc available, skipping.\n",
      "60000/60000 [==============================] - 2s 36us/sample - loss: 0.6362 - accuracy: 0.7960 - val_loss: 0.6372 - val_accuracy: 0.7970\n",
      "Epoch 17/20\n",
      "59500/60000 [============================>.] - ETA: 0s - loss: 0.6287 - accuracy: 0.7976WARNING:tensorflow:Can save best model only with val_acc available, skipping.\n",
      "60000/60000 [==============================] - 2s 28us/sample - loss: 0.6287 - accuracy: 0.7977 - val_loss: 0.6302 - val_accuracy: 0.8000\n",
      "Epoch 18/20\n",
      "57000/60000 [===========================>..] - ETA: 0s - loss: 0.6220 - accuracy: 0.7996WARNING:tensorflow:Can save best model only with val_acc available, skipping.\n",
      "60000/60000 [==============================] - 2s 30us/sample - loss: 0.6217 - accuracy: 0.7997 - val_loss: 0.6237 - val_accuracy: 0.8017\n",
      "Epoch 19/20\n",
      "59500/60000 [============================>.] - ETA: 0s - loss: 0.6157 - accuracy: 0.8015WARNING:tensorflow:Can save best model only with val_acc available, skipping.\n",
      "60000/60000 [==============================] - 2s 29us/sample - loss: 0.6153 - accuracy: 0.8017 - val_loss: 0.6174 - val_accuracy: 0.8036\n",
      "Epoch 20/20\n",
      "58500/60000 [============================>.] - ETA: 0s - loss: 0.6092 - accuracy: 0.8032WARNING:tensorflow:Can save best model only with val_acc available, skipping.\n",
      "60000/60000 [==============================] - 3s 47us/sample - loss: 0.6093 - accuracy: 0.8034 - val_loss: 0.6118 - val_accuracy: 0.8044\n"
     ]
    }
   ],
   "source": [
    "log_checkpoint = ModelCheckpoint('log_model.h5', save_best_only=True, save_weights_only=True, mode='max', monitor='val_acc')\n",
    "model_log = Sequential()\n",
    "model_log.add(Dense(10, input_shape=(784,), activation='softmax'))\n",
    "model_log.compile(loss='categorical_crossentropy', optimizer='sgd', metrics=['accuracy'])        \n",
    "history = model_log.fit(x_train, y_train, batch_size=500, validation_data=(x_test, y_test),\n",
    "                       callbacks=[log_checkpoint], epochs=20)"
   ]
  },
  {
   "cell_type": "code",
   "execution_count": 24,
   "metadata": {},
   "outputs": [
    {
     "data": {
      "text/plain": [
       "<matplotlib.legend.Legend at 0x191d663f438>"
      ]
     },
     "execution_count": 24,
     "metadata": {},
     "output_type": "execute_result"
    },
    {
     "data": {
      "image/png": "[encoded data removed]",
      "text/plain": [
       "<Figure size 432x288 with 1 Axes>"
      ]
     },
     "metadata": {
      "needs_background": "light"
     },
     "output_type": "display_data"
    }
   ],
   "source": [
    "plt.plot(history.history['val_accuracy'])\n",
    "plt.plot(history.history['accuracy'])\n",
    "plt.ylabel('Accuracy')\n",
    "plt.xlabel('Epoch')\n",
    "plt.legend(['Train', 'Validation'], loc='upper left')"
   ]
  },
  {
   "cell_type": "markdown",
   "metadata": {},
   "source": [
    "# Полносвязная нейронная сеть"
   ]
  },
  {
   "cell_type": "code",
   "execution_count": 29,
   "metadata": {},
   "outputs": [],
   "source": [
    "x_Train, x_Valid, y_Train, y_Valid = train_test_split(x_train, y_train, test_size = 0.3, random_state=42)"
   ]
  },
  {
   "cell_type": "code",
   "execution_count": 39,
   "metadata": {},
   "outputs": [
    {
     "name": "stdout",
     "output_type": "stream",
     "text": [
      "Train on 42000 samples, validate on 18000 samples\n",
      "Epoch 1/10\n",
      "42000/42000 [==============================] - 15s 348us/sample - loss: 2.3541 - accuracy: 0.1160 - val_loss: 2.2828 - val_accuracy: 0.1649\n",
      "Epoch 2/10\n",
      "42000/42000 [==============================] - 20s 469us/sample - loss: 2.2877 - accuracy: 0.1475 - val_loss: 2.2115 - val_accuracy: 0.2094\n",
      "Epoch 3/10\n",
      "42000/42000 [==============================] - 26s 614us/sample - loss: 2.2228 - accuracy: 0.1823 - val_loss: 2.1437 - val_accuracy: 0.2864\n",
      "Epoch 4/10\n",
      "42000/42000 [==============================] - 30s 714us/sample - loss: 2.1614 - accuracy: 0.2225 - val_loss: 2.0789 - val_accuracy: 0.3648\n",
      "Epoch 5/10\n",
      "42000/42000 [==============================] - 22s 527us/sample - loss: 2.1003 - accuracy: 0.2700 - val_loss: 2.0163 - val_accuracy: 0.4316\n",
      "Epoch 6/10\n",
      "42000/42000 [==============================] - 23s 559us/sample - loss: 2.0419 - accuracy: 0.3116 - val_loss: 1.9555 - val_accuracy: 0.4856\n",
      "Epoch 7/10\n",
      "42000/42000 [==============================] - 21s 510us/sample - loss: 1.9871 - accuracy: 0.3560 - val_loss: 1.8966 - val_accuracy: 0.5308\n",
      "Epoch 8/10\n",
      "42000/42000 [==============================] - 29s 679us/sample - loss: 1.9294 - accuracy: 0.3965 - val_loss: 1.8394 - val_accuracy: 0.5638\n",
      "Epoch 9/10\n",
      "42000/42000 [==============================] - 37s 877us/sample - loss: 1.8776 - accuracy: 0.4278 - val_loss: 1.7840 - val_accuracy: 0.5887\n",
      "Epoch 10/10\n",
      "42000/42000 [==============================] - 29s 689us/sample - loss: 1.8262 - accuracy: 0.4612 - val_loss: 1.7305 - val_accuracy: 0.6052\n"
     ]
    }
   ],
   "source": [
    "nn_checkpoint = ModelCheckpoint('nn_model.h5', save_best_only=True, save_weights_only=True, mode='max', monitor='val_accuracy')\n",
    "model_nn = Sequential()\n",
    "model_nn.add(Dense(512, activation='relu', input_shape=(784,)))\n",
    "model_nn.add(Dropout(0.2))\n",
    "model_nn.add(Dense(512, activation='relu'))\n",
    "model_nn.add(Dropout(0.2))\n",
    "model_nn.add(Dense(10, activation='softmax'))\n",
    "\n",
    "model_nn.compile(optimizer='adadelta', loss='categorical_crossentropy', metrics=['accuracy'],)\n",
    "\n",
    "history_nn = model_nn.fit(x_Train, y_Train, batch_size=500, validation_data=(x_Valid, y_Valid),\n",
    "                       callbacks=[nn_checkpoint], epochs=10)"
   ]
  },
  {
   "cell_type": "code",
   "execution_count": null,
   "metadata": {},
   "outputs": [],
   "source": [
    "model_nn.load_weights('nn_model.h5')\n",
    "_, score = model_nn.evaluate(x_test, y_test)"
   ]
  },
  {
   "cell_type": "code",
   "execution_count": 46,
   "metadata": {},
   "outputs": [
    {
     "data": {
      "text/plain": [
       "<matplotlib.legend.Legend at 0x191d7510748>"
      ]
     },
     "execution_count": 46,
     "metadata": {},
     "output_type": "execute_result"
    },
    {
     "data": {
      "image/png": "[encoded data removed]",
      "text/plain": [
       "<Figure size 432x288 with 1 Axes>"
      ]
     },
     "metadata": {
      "needs_background": "light"
     },
     "output_type": "display_data"
    }
   ],
   "source": [
    "\n",
    "plt.plot(history_nn.history['accuracy'])\n",
    "plt.plot(history_nn.history['val_accuracy'])\n",
    "plt.ylabel('Accuracy')\n",
    "plt.xlabel('Epoch')\n",
    "plt.legend(['Train', 'Validation'], loc='upper left')"
   ]
  },
  {
   "cell_type": "markdown",
   "metadata": {},
   "source": [
    "# сверточная сеть "
   ]
  },
  {
   "cell_type": "code",
   "execution_count": 50,
   "metadata": {},
   "outputs": [],
   "source": [
    "x_TRAIN_reshaped = x_Train.reshape(42000, 28, 28, 1)\n",
    "x_VALID_reshaped = x_Valid.reshape(18000, 28, 28, 1)\n",
    "x_TEST_reshaped = x_test.reshape(10000, 28, 28, 1)"
   ]
  },
  {
   "cell_type": "code",
   "execution_count": 52,
   "metadata": {},
   "outputs": [
    {
     "name": "stdout",
     "output_type": "stream",
     "text": [
      "Train on 42000 samples, validate on 18000 samples\n",
      "Epoch 1/10\n",
      "42000/42000 [==============================] - 423s 10ms/sample - loss: 0.5688 - accuracy: 0.7963 - val_loss: 2.2853 - val_accuracy: 0.1008\n",
      "Epoch 2/10\n",
      "42000/42000 [==============================] - 434s 10ms/sample - loss: 0.3101 - accuracy: 0.8869 - val_loss: 2.3484 - val_accuracy: 0.1551\n",
      "Epoch 3/10\n",
      "29500/42000 [====================>.........] - ETA: 1:33 - loss: 0.2449 - accuracy: 0.9106WARNING:tensorflow:Can save best model only with val_accuracy available, skipping.\n"
     ]
    },
    {
     "ename": "KeyboardInterrupt",
     "evalue": "",
     "output_type": "error",
     "traceback": [
      "\u001b[1;31m---------------------------------------------------------------------------\u001b[0m",
      "\u001b[1;31mKeyboardInterrupt\u001b[0m                         Traceback (most recent call last)",
      "\u001b[1;32m<ipython-input-52-816109c9b926>\u001b[0m in \u001b[0;36m<module>\u001b[1;34m\u001b[0m\n\u001b[0;32m     19\u001b[0m \u001b[1;33m\u001b[0m\u001b[0m\n\u001b[0;32m     20\u001b[0m history_cnn3 = model_cnn_3b.fit(x_TRAIN_reshaped, y_Train, batch_size=500, validation_data=(x_VALID_reshaped, y_Valid),\n\u001b[1;32m---> 21\u001b[1;33m                        callbacks=[cnn_3_checkpoint], epochs=10)\n\u001b[0m",
      "\u001b[1;32m~\\anaconda3\\envs\\tensorflow\\lib\\site-packages\\tensorflow_core\\python\\keras\\engine\\training.py\u001b[0m in \u001b[0;36mfit\u001b[1;34m(self, x, y, batch_size, epochs, verbose, callbacks, validation_split, validation_data, shuffle, class_weight, sample_weight, initial_epoch, steps_per_epoch, validation_steps, validation_freq, max_queue_size, workers, use_multiprocessing, **kwargs)\u001b[0m\n\u001b[0;32m    817\u001b[0m         \u001b[0mmax_queue_size\u001b[0m\u001b[1;33m=\u001b[0m\u001b[0mmax_queue_size\u001b[0m\u001b[1;33m,\u001b[0m\u001b[1;33m\u001b[0m\u001b[1;33m\u001b[0m\u001b[0m\n\u001b[0;32m    818\u001b[0m         \u001b[0mworkers\u001b[0m\u001b[1;33m=\u001b[0m\u001b[0mworkers\u001b[0m\u001b[1;33m,\u001b[0m\u001b[1;33m\u001b[0m\u001b[1;33m\u001b[0m\u001b[0m\n\u001b[1;32m--> 819\u001b[1;33m         use_multiprocessing=use_multiprocessing)\n\u001b[0m\u001b[0;32m    820\u001b[0m \u001b[1;33m\u001b[0m\u001b[0m\n\u001b[0;32m    821\u001b[0m   def evaluate(self,\n",
      "\u001b[1;32m~\\anaconda3\\envs\\tensorflow\\lib\\site-packages\\tensorflow_core\\python\\keras\\engine\\training_v2.py\u001b[0m in \u001b[0;36mfit\u001b[1;34m(self, model, x, y, batch_size, epochs, verbose, callbacks, validation_split, validation_data, shuffle, class_weight, sample_weight, initial_epoch, steps_per_epoch, validation_steps, validation_freq, max_queue_size, workers, use_multiprocessing, **kwargs)\u001b[0m\n\u001b[0;32m    340\u001b[0m                 \u001b[0mmode\u001b[0m\u001b[1;33m=\u001b[0m\u001b[0mModeKeys\u001b[0m\u001b[1;33m.\u001b[0m\u001b[0mTRAIN\u001b[0m\u001b[1;33m,\u001b[0m\u001b[1;33m\u001b[0m\u001b[1;33m\u001b[0m\u001b[0m\n\u001b[0;32m    341\u001b[0m                 \u001b[0mtraining_context\u001b[0m\u001b[1;33m=\u001b[0m\u001b[0mtraining_context\u001b[0m\u001b[1;33m,\u001b[0m\u001b[1;33m\u001b[0m\u001b[1;33m\u001b[0m\u001b[0m\n\u001b[1;32m--> 342\u001b[1;33m                 total_epochs=epochs)\n\u001b[0m\u001b[0;32m    343\u001b[0m             \u001b[0mcbks\u001b[0m\u001b[1;33m.\u001b[0m\u001b[0mmake_logs\u001b[0m\u001b[1;33m(\u001b[0m\u001b[0mmodel\u001b[0m\u001b[1;33m,\u001b[0m \u001b[0mepoch_logs\u001b[0m\u001b[1;33m,\u001b[0m \u001b[0mtraining_result\u001b[0m\u001b[1;33m,\u001b[0m \u001b[0mModeKeys\u001b[0m\u001b[1;33m.\u001b[0m\u001b[0mTRAIN\u001b[0m\u001b[1;33m)\u001b[0m\u001b[1;33m\u001b[0m\u001b[1;33m\u001b[0m\u001b[0m\n\u001b[0;32m    344\u001b[0m \u001b[1;33m\u001b[0m\u001b[0m\n",
      "\u001b[1;32m~\\anaconda3\\envs\\tensorflow\\lib\\site-packages\\tensorflow_core\\python\\keras\\engine\\training_v2.py\u001b[0m in \u001b[0;36mrun_one_epoch\u001b[1;34m(model, iterator, execution_function, dataset_size, batch_size, strategy, steps_per_epoch, num_samples, mode, training_context, total_epochs)\u001b[0m\n\u001b[0;32m    126\u001b[0m         step=step, mode=mode, size=current_batch_size) as batch_logs:\n\u001b[0;32m    127\u001b[0m       \u001b[1;32mtry\u001b[0m\u001b[1;33m:\u001b[0m\u001b[1;33m\u001b[0m\u001b[1;33m\u001b[0m\u001b[0m\n\u001b[1;32m--> 128\u001b[1;33m         \u001b[0mbatch_outs\u001b[0m \u001b[1;33m=\u001b[0m \u001b[0mexecution_function\u001b[0m\u001b[1;33m(\u001b[0m\u001b[0miterator\u001b[0m\u001b[1;33m)\u001b[0m\u001b[1;33m\u001b[0m\u001b[1;33m\u001b[0m\u001b[0m\n\u001b[0m\u001b[0;32m    129\u001b[0m       \u001b[1;32mexcept\u001b[0m \u001b[1;33m(\u001b[0m\u001b[0mStopIteration\u001b[0m\u001b[1;33m,\u001b[0m \u001b[0merrors\u001b[0m\u001b[1;33m.\u001b[0m\u001b[0mOutOfRangeError\u001b[0m\u001b[1;33m)\u001b[0m\u001b[1;33m:\u001b[0m\u001b[1;33m\u001b[0m\u001b[1;33m\u001b[0m\u001b[0m\n\u001b[0;32m    130\u001b[0m         \u001b[1;31m# TODO(kaftan): File bug about tf function and errors.OutOfRangeError?\u001b[0m\u001b[1;33m\u001b[0m\u001b[1;33m\u001b[0m\u001b[1;33m\u001b[0m\u001b[0m\n",
      "\u001b[1;32m~\\anaconda3\\envs\\tensorflow\\lib\\site-packages\\tensorflow_core\\python\\keras\\engine\\training_v2_utils.py\u001b[0m in \u001b[0;36mexecution_function\u001b[1;34m(input_fn)\u001b[0m\n\u001b[0;32m     96\u001b[0m     \u001b[1;31m# `numpy` translates Tensors to values in Eager mode.\u001b[0m\u001b[1;33m\u001b[0m\u001b[1;33m\u001b[0m\u001b[1;33m\u001b[0m\u001b[0m\n\u001b[0;32m     97\u001b[0m     return nest.map_structure(_non_none_constant_value,\n\u001b[1;32m---> 98\u001b[1;33m                               distributed_function(input_fn))\n\u001b[0m\u001b[0;32m     99\u001b[0m \u001b[1;33m\u001b[0m\u001b[0m\n\u001b[0;32m    100\u001b[0m   \u001b[1;32mreturn\u001b[0m \u001b[0mexecution_function\u001b[0m\u001b[1;33m\u001b[0m\u001b[1;33m\u001b[0m\u001b[0m\n",
      "\u001b[1;32m~\\anaconda3\\envs\\tensorflow\\lib\\site-packages\\tensorflow_core\\python\\eager\\def_function.py\u001b[0m in \u001b[0;36m__call__\u001b[1;34m(self, *args, **kwds)\u001b[0m\n\u001b[0;32m    566\u001b[0m         \u001b[0mxla_context\u001b[0m\u001b[1;33m.\u001b[0m\u001b[0mExit\u001b[0m\u001b[1;33m(\u001b[0m\u001b[1;33m)\u001b[0m\u001b[1;33m\u001b[0m\u001b[1;33m\u001b[0m\u001b[0m\n\u001b[0;32m    567\u001b[0m     \u001b[1;32melse\u001b[0m\u001b[1;33m:\u001b[0m\u001b[1;33m\u001b[0m\u001b[1;33m\u001b[0m\u001b[0m\n\u001b[1;32m--> 568\u001b[1;33m       \u001b[0mresult\u001b[0m \u001b[1;33m=\u001b[0m \u001b[0mself\u001b[0m\u001b[1;33m.\u001b[0m\u001b[0m_call\u001b[0m\u001b[1;33m(\u001b[0m\u001b[1;33m*\u001b[0m\u001b[0margs\u001b[0m\u001b[1;33m,\u001b[0m \u001b[1;33m**\u001b[0m\u001b[0mkwds\u001b[0m\u001b[1;33m)\u001b[0m\u001b[1;33m\u001b[0m\u001b[1;33m\u001b[0m\u001b[0m\n\u001b[0m\u001b[0;32m    569\u001b[0m \u001b[1;33m\u001b[0m\u001b[0m\n\u001b[0;32m    570\u001b[0m     \u001b[1;32mif\u001b[0m \u001b[0mtracing_count\u001b[0m \u001b[1;33m==\u001b[0m \u001b[0mself\u001b[0m\u001b[1;33m.\u001b[0m\u001b[0m_get_tracing_count\u001b[0m\u001b[1;33m(\u001b[0m\u001b[1;33m)\u001b[0m\u001b[1;33m:\u001b[0m\u001b[1;33m\u001b[0m\u001b[1;33m\u001b[0m\u001b[0m\n",
      "\u001b[1;32m~\\anaconda3\\envs\\tensorflow\\lib\\site-packages\\tensorflow_core\\python\\eager\\def_function.py\u001b[0m in \u001b[0;36m_call\u001b[1;34m(self, *args, **kwds)\u001b[0m\n\u001b[0;32m    597\u001b[0m       \u001b[1;31m# In this case we have created variables on the first call, so we run the\u001b[0m\u001b[1;33m\u001b[0m\u001b[1;33m\u001b[0m\u001b[1;33m\u001b[0m\u001b[0m\n\u001b[0;32m    598\u001b[0m       \u001b[1;31m# defunned version which is guaranteed to never create variables.\u001b[0m\u001b[1;33m\u001b[0m\u001b[1;33m\u001b[0m\u001b[1;33m\u001b[0m\u001b[0m\n\u001b[1;32m--> 599\u001b[1;33m       \u001b[1;32mreturn\u001b[0m \u001b[0mself\u001b[0m\u001b[1;33m.\u001b[0m\u001b[0m_stateless_fn\u001b[0m\u001b[1;33m(\u001b[0m\u001b[1;33m*\u001b[0m\u001b[0margs\u001b[0m\u001b[1;33m,\u001b[0m \u001b[1;33m**\u001b[0m\u001b[0mkwds\u001b[0m\u001b[1;33m)\u001b[0m  \u001b[1;31m# pylint: disable=not-callable\u001b[0m\u001b[1;33m\u001b[0m\u001b[1;33m\u001b[0m\u001b[0m\n\u001b[0m\u001b[0;32m    600\u001b[0m     \u001b[1;32melif\u001b[0m \u001b[0mself\u001b[0m\u001b[1;33m.\u001b[0m\u001b[0m_stateful_fn\u001b[0m \u001b[1;32mis\u001b[0m \u001b[1;32mnot\u001b[0m \u001b[1;32mNone\u001b[0m\u001b[1;33m:\u001b[0m\u001b[1;33m\u001b[0m\u001b[1;33m\u001b[0m\u001b[0m\n\u001b[0;32m    601\u001b[0m       \u001b[1;31m# Release the lock early so that multiple threads can perform the call\u001b[0m\u001b[1;33m\u001b[0m\u001b[1;33m\u001b[0m\u001b[1;33m\u001b[0m\u001b[0m\n",
      "\u001b[1;32m~\\anaconda3\\envs\\tensorflow\\lib\\site-packages\\tensorflow_core\\python\\eager\\function.py\u001b[0m in \u001b[0;36m__call__\u001b[1;34m(self, *args, **kwargs)\u001b[0m\n\u001b[0;32m   2361\u001b[0m     \u001b[1;32mwith\u001b[0m \u001b[0mself\u001b[0m\u001b[1;33m.\u001b[0m\u001b[0m_lock\u001b[0m\u001b[1;33m:\u001b[0m\u001b[1;33m\u001b[0m\u001b[1;33m\u001b[0m\u001b[0m\n\u001b[0;32m   2362\u001b[0m       \u001b[0mgraph_function\u001b[0m\u001b[1;33m,\u001b[0m \u001b[0margs\u001b[0m\u001b[1;33m,\u001b[0m \u001b[0mkwargs\u001b[0m \u001b[1;33m=\u001b[0m \u001b[0mself\u001b[0m\u001b[1;33m.\u001b[0m\u001b[0m_maybe_define_function\u001b[0m\u001b[1;33m(\u001b[0m\u001b[0margs\u001b[0m\u001b[1;33m,\u001b[0m \u001b[0mkwargs\u001b[0m\u001b[1;33m)\u001b[0m\u001b[1;33m\u001b[0m\u001b[1;33m\u001b[0m\u001b[0m\n\u001b[1;32m-> 2363\u001b[1;33m     \u001b[1;32mreturn\u001b[0m \u001b[0mgraph_function\u001b[0m\u001b[1;33m.\u001b[0m\u001b[0m_filtered_call\u001b[0m\u001b[1;33m(\u001b[0m\u001b[0margs\u001b[0m\u001b[1;33m,\u001b[0m \u001b[0mkwargs\u001b[0m\u001b[1;33m)\u001b[0m  \u001b[1;31m# pylint: disable=protected-access\u001b[0m\u001b[1;33m\u001b[0m\u001b[1;33m\u001b[0m\u001b[0m\n\u001b[0m\u001b[0;32m   2364\u001b[0m \u001b[1;33m\u001b[0m\u001b[0m\n\u001b[0;32m   2365\u001b[0m   \u001b[1;33m@\u001b[0m\u001b[0mproperty\u001b[0m\u001b[1;33m\u001b[0m\u001b[1;33m\u001b[0m\u001b[0m\n",
      "\u001b[1;32m~\\anaconda3\\envs\\tensorflow\\lib\\site-packages\\tensorflow_core\\python\\eager\\function.py\u001b[0m in \u001b[0;36m_filtered_call\u001b[1;34m(self, args, kwargs)\u001b[0m\n\u001b[0;32m   1609\u001b[0m          if isinstance(t, (ops.Tensor,\n\u001b[0;32m   1610\u001b[0m                            resource_variable_ops.BaseResourceVariable))),\n\u001b[1;32m-> 1611\u001b[1;33m         self.captured_inputs)\n\u001b[0m\u001b[0;32m   1612\u001b[0m \u001b[1;33m\u001b[0m\u001b[0m\n\u001b[0;32m   1613\u001b[0m   \u001b[1;32mdef\u001b[0m \u001b[0m_call_flat\u001b[0m\u001b[1;33m(\u001b[0m\u001b[0mself\u001b[0m\u001b[1;33m,\u001b[0m \u001b[0margs\u001b[0m\u001b[1;33m,\u001b[0m \u001b[0mcaptured_inputs\u001b[0m\u001b[1;33m,\u001b[0m \u001b[0mcancellation_manager\u001b[0m\u001b[1;33m=\u001b[0m\u001b[1;32mNone\u001b[0m\u001b[1;33m)\u001b[0m\u001b[1;33m:\u001b[0m\u001b[1;33m\u001b[0m\u001b[1;33m\u001b[0m\u001b[0m\n",
      "\u001b[1;32m~\\anaconda3\\envs\\tensorflow\\lib\\site-packages\\tensorflow_core\\python\\eager\\function.py\u001b[0m in \u001b[0;36m_call_flat\u001b[1;34m(self, args, captured_inputs, cancellation_manager)\u001b[0m\n\u001b[0;32m   1690\u001b[0m       \u001b[1;31m# No tape is watching; skip to running the function.\u001b[0m\u001b[1;33m\u001b[0m\u001b[1;33m\u001b[0m\u001b[1;33m\u001b[0m\u001b[0m\n\u001b[0;32m   1691\u001b[0m       return self._build_call_outputs(self._inference_function.call(\n\u001b[1;32m-> 1692\u001b[1;33m           ctx, args, cancellation_manager=cancellation_manager))\n\u001b[0m\u001b[0;32m   1693\u001b[0m     forward_backward = self._select_forward_and_backward_functions(\n\u001b[0;32m   1694\u001b[0m         \u001b[0margs\u001b[0m\u001b[1;33m,\u001b[0m\u001b[1;33m\u001b[0m\u001b[1;33m\u001b[0m\u001b[0m\n",
      "\u001b[1;32m~\\anaconda3\\envs\\tensorflow\\lib\\site-packages\\tensorflow_core\\python\\eager\\function.py\u001b[0m in \u001b[0;36mcall\u001b[1;34m(self, ctx, args, cancellation_manager)\u001b[0m\n\u001b[0;32m    543\u001b[0m               \u001b[0minputs\u001b[0m\u001b[1;33m=\u001b[0m\u001b[0margs\u001b[0m\u001b[1;33m,\u001b[0m\u001b[1;33m\u001b[0m\u001b[1;33m\u001b[0m\u001b[0m\n\u001b[0;32m    544\u001b[0m               \u001b[0mattrs\u001b[0m\u001b[1;33m=\u001b[0m\u001b[1;33m(\u001b[0m\u001b[1;34m\"executor_type\"\u001b[0m\u001b[1;33m,\u001b[0m \u001b[0mexecutor_type\u001b[0m\u001b[1;33m,\u001b[0m \u001b[1;34m\"config_proto\"\u001b[0m\u001b[1;33m,\u001b[0m \u001b[0mconfig\u001b[0m\u001b[1;33m)\u001b[0m\u001b[1;33m,\u001b[0m\u001b[1;33m\u001b[0m\u001b[1;33m\u001b[0m\u001b[0m\n\u001b[1;32m--> 545\u001b[1;33m               ctx=ctx)\n\u001b[0m\u001b[0;32m    546\u001b[0m         \u001b[1;32melse\u001b[0m\u001b[1;33m:\u001b[0m\u001b[1;33m\u001b[0m\u001b[1;33m\u001b[0m\u001b[0m\n\u001b[0;32m    547\u001b[0m           outputs = execute.execute_with_cancellation(\n",
      "\u001b[1;32m~\\anaconda3\\envs\\tensorflow\\lib\\site-packages\\tensorflow_core\\python\\eager\\execute.py\u001b[0m in \u001b[0;36mquick_execute\u001b[1;34m(op_name, num_outputs, inputs, attrs, ctx, name)\u001b[0m\n\u001b[0;32m     59\u001b[0m     tensors = pywrap_tensorflow.TFE_Py_Execute(ctx._handle, device_name,\n\u001b[0;32m     60\u001b[0m                                                \u001b[0mop_name\u001b[0m\u001b[1;33m,\u001b[0m \u001b[0minputs\u001b[0m\u001b[1;33m,\u001b[0m \u001b[0mattrs\u001b[0m\u001b[1;33m,\u001b[0m\u001b[1;33m\u001b[0m\u001b[1;33m\u001b[0m\u001b[0m\n\u001b[1;32m---> 61\u001b[1;33m                                                num_outputs)\n\u001b[0m\u001b[0;32m     62\u001b[0m   \u001b[1;32mexcept\u001b[0m \u001b[0mcore\u001b[0m\u001b[1;33m.\u001b[0m\u001b[0m_NotOkStatusException\u001b[0m \u001b[1;32mas\u001b[0m \u001b[0me\u001b[0m\u001b[1;33m:\u001b[0m\u001b[1;33m\u001b[0m\u001b[1;33m\u001b[0m\u001b[0m\n\u001b[0;32m     63\u001b[0m     \u001b[1;32mif\u001b[0m \u001b[0mname\u001b[0m \u001b[1;32mis\u001b[0m \u001b[1;32mnot\u001b[0m \u001b[1;32mNone\u001b[0m\u001b[1;33m:\u001b[0m\u001b[1;33m\u001b[0m\u001b[1;33m\u001b[0m\u001b[0m\n",
      "\u001b[1;31mKeyboardInterrupt\u001b[0m: "
     ]
    }
   ],
   "source": [
    "cnn_3_checkpoint = ModelCheckpoint('cnn3_model.h5', save_best_only=True, save_weights_only=True, mode='max', monitor='val_accuracy')\n",
    "model_cnn_3b = tf.keras.models.Sequential()\n",
    "model_cnn_3b.add(tf.keras.layers.Convolution2D(32, (3,3), input_shape=(28, 28, 1), activation='relu'))\n",
    "model_cnn_3b.add(tf.keras.layers.BatchNormalization())\n",
    "model_cnn_3b.add(tf.keras.layers.Convolution2D(32, (3,3), activation='relu'))\n",
    "model_cnn_3b.add(tf.keras.layers.BatchNormalization())\n",
    "model_cnn_3b.add(tf.keras.layers.MaxPooling2D((2,2)))\n",
    "model_cnn_3b.add(tf.keras.layers.Convolution2D(64, (3,3), activation='relu'))\n",
    "model_cnn_3b.add(tf.keras.layers.BatchNormalization())\n",
    "model_cnn_3b.add(tf.keras.layers.Convolution2D(64, (3,3), activation='relu'))\n",
    "model_cnn_3b.add(tf.keras.layers.BatchNormalization())\n",
    "model_cnn_3b.add(tf.keras.layers.MaxPooling2D((2,2)))\n",
    "model_cnn_3b.add(tf.keras.layers.Flatten())\n",
    "model_cnn_3b.add(tf.keras.layers.Dense(128, activation='relu'))\n",
    "model_cnn_3b.add(tf.keras.layers.Dense(32, activation='relu'))\n",
    "model_cnn_3b.add(tf.keras.layers.Dense(10, activation='softmax'))\n",
    "\n",
    "model_cnn_3b.compile(optimizer='adam',loss='categorical_crossentropy', metrics=['accuracy'])\n",
    "    \n",
    "history_cnn3 = model_cnn_3b.fit(x_TRAIN_reshaped, y_Train, batch_size=500, validation_data=(x_VALID_reshaped, y_Valid),\n",
    "                       callbacks=[cnn_3_checkpoint], epochs=10)"
   ]
  },
  {
   "cell_type": "code",
   "execution_count": null,
   "metadata": {},
   "outputs": [],
   "source": [
    "plt.plot(history_cnn3.history['acc'])\n",
    "plt.plot(history_cnn3.history['val_acc'])\n",
    "plt.ylabel('Accuracy')\n",
    "plt.xlabel('Epoch')\n",
    "plt.legend(['Train', 'Test'], loc='upper left')"
   ]
  },
  {
   "cell_type": "code",
   "execution_count": null,
   "metadata": {},
   "outputs": [],
   "source": [
    "model_cnn_3b.load_weights('cnn3_model.h5')\n",
    "_, score = model_cnn_3b.evaluate(x_TEST_reshaped, y_test)\n",
    "print(\"Сверточная нейронная сеть-3   accuracy: {0:.3f}\".format(score))"
   ]
  },
  {
   "cell_type": "markdown",
   "metadata": {},
   "source": [
    "С увеличением количества epoch качество увеличивается, Batch Normalization также улучшает качество решения.Слишком долго выполянет на моем компе сверточную сеть, поэтому я не стал ждать завершения) "
   ]
  }
 ],
 "metadata": {
  "kernelspec": {
   "display_name": "Python 3",
   "language": "python",
   "name": "python3"
  },
  "language_info": {
   "codemirror_mode": {
    "name": "ipython",
    "version": 3
   },
   "file_extension": ".py",
   "mimetype": "text/x-python",
   "name": "python",
   "nbconvert_exporter": "python",
   "pygments_lexer": "ipython3",
   "version": "3.6.12"
  }
 },
 "nbformat": 4,
 "nbformat_minor": 2
}
